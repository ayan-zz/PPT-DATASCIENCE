{
 "cells": [
  {
   "cell_type": "markdown",
   "id": "5eb03831",
   "metadata": {},
   "source": [
    "**AYAN CHOWDHURY**\n",
    "\n",
    "**DATA SCIENCE PYTHON**\n",
    "\n",
    "**FSDS 2.0**"
   ]
  },
  {
   "cell_type": "markdown",
   "id": "4c315682",
   "metadata": {},
   "source": [
    "1. Scenario: A company wants to analyze the sales performance of its products in different regions. They have collected the following data:\n",
    "   Region A: [10, 15, 12, 8, 14]\n",
    "   Region B: [18, 20, 16, 22, 25]\n",
    "   Calculate the mean sales for each region.\n",
    "   \n",
    "   \n",
    "   \n",
    "Ans: Region A: 11.8 Region B: 20.2\n",
    "\n",
    "2. Scenario: A survey is conducted to measure customer satisfaction on a scale of 1 to 5. The data collected is as follows:\n",
    "   [4, 5, 2, 3, 5, 4, 3, 2, 4, 5]\n",
    "   Calculate the mode of the survey responses.\n",
    "   \n",
    "   \n",
    "   \n",
    "Ans: 4\n",
    "\n",
    "3. Scenario: A company wants to compare the salaries of two departments. The salary data for Department A and Department B are as follows:\n",
    "   Department A: [5000, 6000, 5500, 7000]\n",
    "   Department B: [4500, 5500, 5800, 6000, 5200]\n",
    "   Calculate the median salary for each department.\n",
    "\n",
    "\n",
    "\n",
    "Ans: Department A=5750  Department B=5800\n",
    "\n",
    "4. Scenario: A data analyst wants to determine the variability in the daily stock prices of a company. The data collected is as follows:\n",
    "   [25.5, 24.8, 26.1, 25.3, 24.9]\n",
    "   Calculate the range of the stock prices.\n",
    "   \n",
    "   \n",
    "Ans: Mean=25.32\n",
    "Variance= (0.0324+0.2704+0.6084+0.00002+0.1764)/5 = 0.217\n",
    "Range (24.8, 26.1)\n",
    "\n",
    "5. Scenario: A study is conducted to compare the performance of two different teaching methods. The test scores of the students in each group are as follows:\n",
    "   Group A: [85, 90, 92, 88, 91]\n",
    "   Group B: [82, 88, 90, 86, 87]\n",
    "   Perform a t-test to determine if there is a significant difference in the mean scores between the two groups.\n",
    "   \n",
    "   \n",
    "Ans: null hypothesis is no mean difference between groups.\n",
    "x=89.2, mean=86.2\n",
    "T test stat=(89.2-86.2)/(s/sq rt. N) = 3/(4/2.23)=3/1.79= 1.67\n",
    "Taking alpha = 0.25 DOF= 4 From t-table t value = 0.741\n",
    "T stat is greater than 0.741, therefore, we reject null hypothesis. There is significant difference in mean\n"
   ]
  },
  {
   "cell_type": "markdown",
   "id": "9ad519d6",
   "metadata": {},
   "source": [
    "6. Scenario: A company wants to analyze the relationship between advertising expenditure and sales. The data collected is as follows:\n",
    "   Advertising Expenditure (in thousands): [10, 15, 12, 8, 14]\n",
    "   Sales (in thousands): [25, 30, 28, 20, 26]\n",
    "   Calculate the correlation coefficient between advertising expenditure and sales.\n"
   ]
  },
  {
   "cell_type": "code",
   "execution_count": 1,
   "id": "4d41af33",
   "metadata": {},
   "outputs": [
    {
     "name": "stdout",
     "output_type": "stream",
     "text": [
      "correlation coefficient of expenditure:1.0\n",
      "correlation coefficient of sales: 1.0\n"
     ]
    }
   ],
   "source": [
    "Exp=[10, 15, 12, 8, 14]\n",
    "sales=[25, 30, 28, 20, 26]\n",
    "import numpy as np\n",
    "corr_exp=np.corrcoef(Exp)\n",
    "corr_sales=np.corrcoef(sales)\n",
    "print(f'correlation coefficient of expenditure:{corr_exp}')\n",
    "print(f'correlation coefficient of sales: {corr_sales}')\n"
   ]
  },
  {
   "cell_type": "markdown",
   "id": "88b7841b",
   "metadata": {},
   "source": [
    "7. Scenario: A survey is conducted to measure the heights of a group of people. The data collected is as follows:\n",
    "   [160, 170, 165, 155, 175, 180, 170]\n",
    "   Calculate the standard deviation of the heights\n"
   ]
  },
  {
   "cell_type": "code",
   "execution_count": 4,
   "id": "226d10cd",
   "metadata": {},
   "outputs": [
    {
     "name": "stdout",
     "output_type": "stream",
     "text": [
      "Standard deviation of heights: 7.954\n"
     ]
    }
   ],
   "source": [
    "x=[160, 170, 165, 155, 175, 180, 170]\n",
    "import numpy as np\n",
    "std_dev=round(np.std(x),3)\n",
    "print(f\"Standard deviation of heights: {std_dev}\")"
   ]
  },
  {
   "cell_type": "markdown",
   "id": "73f524c5",
   "metadata": {},
   "source": [
    "8. Scenario: A company wants to analyze the relationship between employee tenure and job satisfaction. The data collected is as follows:\n",
    "   Employee Tenure (in years): [2, 3, 5, 4, 6, 2, 4]\n",
    "   Job Satisfaction (on a scale of 1 to 10): [7, 8, 6, 9, 5, 7, 6]\n",
    "   Perform a linear regression analysis to predict job satisfaction based on employee tenure.\n"
   ]
  },
  {
   "cell_type": "code",
   "execution_count": 26,
   "id": "5f9eaf23",
   "metadata": {},
   "outputs": [
    {
     "name": "stdout",
     "output_type": "stream",
     "text": [
      "[[7. 8. 6. 9. 5. 7. 6.]]\n"
     ]
    }
   ],
   "source": [
    "x=[2, 3, 5, 4, 6, 2, 4]\n",
    "y=[7, 8, 6, 9, 5, 7, 6] \n",
    "\n",
    "import pandas as pd\n",
    "from sklearn.linear_model import LinearRegression\n",
    "from sklearn.model_selection import train_test_split\n",
    "\n",
    "lr=LinearRegression()\n",
    "length=100\n",
    "x=np.array(x)\n",
    "y=np.array(y)\n",
    "\n",
    "X=x.reshape(1,-1)\n",
    "y=y.reshape(1,-1)\n",
    "#X_train,X_test,y_train,y_test=train_test_split(X,y,test_size=.20,random_state=10)\n",
    "model=lr.fit(X,y)\n",
    "y_pred=model.predict(X)\n",
    "\n",
    "print(y_pred)"
   ]
  },
  {
   "cell_type": "markdown",
   "id": "cd14850a",
   "metadata": {},
   "source": [
    "9. Scenario: A study is conducted to compare the effectiveness of two different medications. The recovery times of the patients in each group are as follows:\n",
    "   Medication A: [10, 12, 14, 11, 13]\n",
    "   Medication B: [15, 17, 16, 14, 18]\n",
    "   Perform an analysis of variance (ANOVA) to determine if there is a significant difference in the mean recovery times between the two medications.\n"
   ]
  },
  {
   "cell_type": "code",
   "execution_count": 29,
   "id": "436634ab",
   "metadata": {},
   "outputs": [
    {
     "name": "stdout",
     "output_type": "stream",
     "text": [
      "NULL HYPOTHESIS: is there a significant difference in the mean recovery times between the two medications\n",
      "F_onewayResult(statistic=16.0, pvalue=0.003949772803445326)\n",
      "Reject Null hypothesis\n"
     ]
    }
   ],
   "source": [
    "from scipy.stats import f_oneway\n",
    "A=[10, 12, 14, 11, 13] \n",
    "B=[15, 17, 16, 14, 18] \n",
    "print(\"NULL HYPOTHESIS: is there a significant difference in the mean recovery times between the two medications\")\n",
    "one_way_annova=f_oneway(A,B)\n",
    "print(one_way_annova)\n",
    "p_value=one_way_annova[1]\n",
    "if p_value< 0.05:\n",
    "    print('Reject Null hypothesis')\n",
    "else:\n",
    "    print('accept null hypothesis')"
   ]
  },
  {
   "cell_type": "markdown",
   "id": "354d0dd5",
   "metadata": {},
   "source": [
    "10. Scenario: A company wants to analyze customer feedback ratings on a scale of 1 to 10. The data collected is\n",
    "as follows:\n",
    "[8, 9, 7, 6, 8, 10, 9, 8, 7, 8]\n",
    "Calculate the 75th percentile of the feedback ratings.\n"
   ]
  },
  {
   "cell_type": "code",
   "execution_count": 41,
   "id": "caf48b8f",
   "metadata": {},
   "outputs": [
    {
     "name": "stdout",
     "output_type": "stream",
     "text": [
      "The 75 percentile lies in the 7 position of feedback range with value: 9.0\n"
     ]
    }
   ],
   "source": [
    "df=sorted([8, 9, 7, 6, 8, 10, 9, 8, 7, 8])\n",
    "percentile_value=np.percentile(df, 75)\n",
    "p_val=round(percentile_value,0)\n",
    "\n",
    "print(f\"The 75 percentile lies in the {df.index(p_val)} position of feedback range with value: {p_val}\")"
   ]
  },
  {
   "cell_type": "markdown",
   "id": "ed671f35",
   "metadata": {},
   "source": [
    "11. Scenario: A quality control department wants to test the weight consistency of a product. The weights of a sample of products are as follows:\n",
    "    [10.2, 9.8, 10.0, 10.5, 10.3, 10.1]\n",
    "    Perform a hypothesis test to determine if the mean weight differs significantly from 10 grams.\n",
    "\n"
   ]
  },
  {
   "cell_type": "code",
   "execution_count": 46,
   "id": "34972e72",
   "metadata": {},
   "outputs": [
    {
     "name": "stdout",
     "output_type": "stream",
     "text": [
      "null hypothesis: mean weight differs \n",
      "t-test statistics value=1.5126584522688367\n",
      "accept null hypothesis\n"
     ]
    }
   ],
   "source": [
    "mean=10\n",
    "sample=[10.2, 9.8, 10.0, 10.5, 10.3, 10.1]\n",
    "import scipy.stats as stats\n",
    "\n",
    "#perform one sample t-test\n",
    "t_test_stat=stats.ttest_1samp(sample, popmean=mean)\n",
    "alpha=+0.025,-0.025\n",
    "dof=5\n",
    "t_crt=2.571 #from t-table\n",
    "t_sts=t_test_stat[0]\n",
    "print('null hypothesis: mean weight differs ')\n",
    "print(f't-test statistics value={t_sts}')\n",
    "\n",
    "if t_sts>t_crt:\n",
    "    print('reject null hypothesis')\n",
    "else:\n",
    "    print('accept null hypothesis')\n",
    "    "
   ]
  },
  {
   "cell_type": "markdown",
   "id": "be2ac63c",
   "metadata": {},
   "source": [
    "12. Scenario: A company wants to analyze the click-through rates of two different website designs. The number of clicks for each design is as follows:\n",
    "    Design A: [100, 120, 110, 90, 95]\n",
    "    Design B: [80, 85, 90, 95, 100]\n",
    "    Perform a chi-square test to determine if there is a significant difference in the click-through rates between the two designs.\n"
   ]
  },
  {
   "cell_type": "code",
   "execution_count": 56,
   "id": "6f7edec7",
   "metadata": {},
   "outputs": [
    {
     "name": "stdout",
     "output_type": "stream",
     "text": [
      "chi square value determined by formula : 18.38563264221159\n",
      "chi square critical value:9.487729036781154\n",
      "reject null hypothesis\n"
     ]
    }
   ],
   "source": [
    "import scipy.stats as stats\n",
    "import numpy as np\n",
    "\n",
    "a=[100, 120, 110, 90, 95]\n",
    "b=[80, 85, 90, 95, 100]\n",
    "chi_test_statistic = 0\n",
    "for i in range(len(b)):\n",
    "    chi_test_statistic = chi_test_statistic + \\\n",
    "        (np.square(b[i]-a[i]))/a[i]\n",
    "    \n",
    "print('chi square value determined by formula : ' +\n",
    "      str(chi_test_statistic))\n",
    "\n",
    "chi_crit=stats.chi2.ppf(1-0.05, df=4)\n",
    "print('chi square critical value:'+str(chi_crit))\n",
    "\n",
    "if chi_test_statistic>chi_crit:\n",
    "    print('reject null hypothesis')\n",
    "else:\n",
    "    print('accept null hypothesis')"
   ]
  },
  {
   "cell_type": "markdown",
   "id": "14f6242a",
   "metadata": {},
   "source": [
    "13. Scenario: A survey is conducted to measure customer satisfaction with a product on a scale of 1 to 10. The data collected is as follows:\n",
    "    [7, 9, 6, 8, 10, 7, 8, 9, 7, 8]\n",
    "    Calculate the 95% confidence interval for the population mean satisfaction score.\n",
    "\n"
   ]
  },
  {
   "cell_type": "code",
   "execution_count": 64,
   "id": "27395689",
   "metadata": {},
   "outputs": [
    {
     "name": "stdout",
     "output_type": "stream",
     "text": [
      "The confidence interval range:(7.043561120599888, 8.756438879400113) which means that there are 95% chances the confidence interval contains the true population mean\n"
     ]
    }
   ],
   "source": [
    "import scipy.stats as st\n",
    "import numpy as np\n",
    "x=[7, 9, 6, 8, 10, 7, 8, 9, 7, 8] \n",
    "\n",
    "conf_int=st.t.interval(confidence=0.95,\n",
    "              df=len(x)-1,\n",
    "              loc=np.mean(x), \n",
    "              scale=st.sem(x))\n",
    "print(f'The confidence interval range:{conf_int} which means that there are 95% chances the confidence interval contains the true population mean')"
   ]
  },
  {
   "cell_type": "markdown",
   "id": "6bd302fe",
   "metadata": {},
   "source": [
    "14. Scenario: A company wants to analyze the effect of temperature on product performance. The data collected is as follows:\n",
    "    Temperature (in degrees Celsius): [20, 22, 23, 19, 21]\n",
    "    Performance (on a scale of 1 to 10): [8, 7, 9, 6, 8]\n",
    "    Perform a simple linear regression to predict performance based on temperature.\n"
   ]
  },
  {
   "cell_type": "code",
   "execution_count": 65,
   "id": "fe31cc9f",
   "metadata": {},
   "outputs": [
    {
     "name": "stdout",
     "output_type": "stream",
     "text": [
      "[[8. 7. 9. 6. 8.]]\n"
     ]
    }
   ],
   "source": [
    "temp=[20, 22, 23, 19, 21]\n",
    "scale= [8, 7, 9, 6, 8] \n",
    "import pandas as pd\n",
    "from sklearn.linear_model import LinearRegression\n",
    "from sklearn.model_selection import train_test_split\n",
    "\n",
    "lr=LinearRegression()\n",
    "\n",
    "x=np.array(temp)\n",
    "y=np.array(scale)\n",
    "\n",
    "X=x.reshape(1,-1)\n",
    "y=y.reshape(1,-1)\n",
    "\n",
    "model=lr.fit(X,y)\n",
    "y_pred=model.predict(X)\n",
    "print(y_pred)"
   ]
  },
  {
   "cell_type": "markdown",
   "id": "6c87c412",
   "metadata": {},
   "source": [
    "15. Scenario: A study is conducted to compare the preferences of two groups of participants. The preferences are measured on a Likert scale from 1 to 5. The data collected is as follows:\n",
    "    Group A: [4, 3, 5, 2, 4]\n",
    "    Group B: [3, 2, 4, 3, 3]\n",
    "    Perform a Mann-Whitney U test to determine if there is a significant difference in the median preferences between the two groups.\n"
   ]
  },
  {
   "cell_type": "code",
   "execution_count": 68,
   "id": "fdf14bd1",
   "metadata": {},
   "outputs": [
    {
     "name": "stdout",
     "output_type": "stream",
     "text": [
      "Fail to Reject Null Hypothesis (No significant difference between two samples)\n"
     ]
    }
   ],
   "source": [
    "from scipy.stats import mannwhitneyu\n",
    "a= [4, 3, 5, 2, 4]\n",
    "b=[3, 2, 4, 3, 3]\n",
    "mann_whit_stats=mannwhitneyu(a,b)\n",
    "p_value=mann_whit_stats[1]\n",
    "alpha = 0.05\n",
    "\n",
    "if p_value < alpha:\n",
    "    print('Reject Null Hypothesis (Significant difference between two samples)')\n",
    "else:\n",
    "    print('Fail to Reject Null Hypothesis (No significant difference between two samples)')"
   ]
  },
  {
   "cell_type": "markdown",
   "id": "ec4b08bc",
   "metadata": {},
   "source": [
    "16. Scenario: A company wants to analyze the distribution of customer ages. The data collected is as follows:\n",
    "    [25, 30, 35, 40, 45, 50, 55, 60, 65, 70]\n",
    "    Calculate the interquartile range (IQR) of the ages.\n"
   ]
  },
  {
   "cell_type": "code",
   "execution_count": 74,
   "id": "022d4148",
   "metadata": {},
   "outputs": [
    {
     "name": "stdout",
     "output_type": "stream",
     "text": [
      "Ínter quartile range:20.0\n",
      "First quartile:37.5, Second Quartile: 47.5, Third Quartile: 57.5\n"
     ]
    }
   ],
   "source": [
    "a=[25, 30, 35, 40, 45, 50, 55, 60, 65, 70]\n",
    "a1=sorted(a)\n",
    "\n",
    "Q1=np.percentile(a1, 25, interpolation = 'midpoint')\n",
    "Q3=np.percentile(a1,75, interpolation = 'midpoint')\n",
    "Q2=np.median(a1)\n",
    "\n",
    "IQR=Q3-Q1\n",
    "print(f'Ínter quartile range:{IQR}')\n",
    "print(f'First quartile:{Q1}, Second Quartile: {Q2}, Third Quartile: {Q3}')"
   ]
  },
  {
   "cell_type": "markdown",
   "id": "50235bea",
   "metadata": {},
   "source": [
    "17. Scenario: A study is conducted to compare the performance of three different machine learning algorithms. The accuracy scores for each algorithm are as follows:\n",
    "    Algorithm A: [0.85, 0.80, 0.82, 0.87, 0.83]\n",
    "    Algorithm B: [0.78, 0.82, 0.84, 0.80, 0.79]\n",
    "    Algorithm C: [0.90, 0.88, 0.89, 0.86, 0.87]\n",
    "    Perform a Kruskal-Wallis test to determine if there is a significant difference in the median accuracy scores between the algorithms.\n"
   ]
  },
  {
   "cell_type": "code",
   "execution_count": 79,
   "id": "2d948616",
   "metadata": {},
   "outputs": [
    {
     "name": "stdout",
     "output_type": "stream",
     "text": [
      "KruskalResult(statistic=9.696947935368053, pvalue=0.007840333026249539)\n",
      "Reject null hypothesis (Significant difference between two samples)\n"
     ]
    }
   ],
   "source": [
    "from scipy import stats\n",
    "a=[0.85, 0.80, 0.82, 0.87, 0.83]\n",
    "b=[0.78, 0.82, 0.84, 0.80, 0.79]\n",
    "c=[0.90, 0.88, 0.89, 0.86, 0.87]\n",
    "\n",
    "score=stats.kruskal(a,b,c)\n",
    "print(score)\n",
    "p_value=score[1]\n",
    "\n",
    "if p_value<0.05:\n",
    "    print('Reject null hypothesis (Significant difference between two samples)')\n",
    "else:\n",
    "    print('Fail to reject null hypothesis (No significant difference between two samples)')"
   ]
  },
  {
   "cell_type": "markdown",
   "id": "3002b6bb",
   "metadata": {},
   "source": [
    "18. Scenario: A company wants to analyze the effect of price on sales. The data collected is as follows:\n",
    "    Price (in dollars): [10, 15, 12, 8, 14]\n",
    "    Sales: [100, 80, 90, 110, 95]\n",
    "    Perform a simple linear regression to predict\n"
   ]
  },
  {
   "cell_type": "code",
   "execution_count": 82,
   "id": "5d11b570",
   "metadata": {},
   "outputs": [
    {
     "name": "stdout",
     "output_type": "stream",
     "text": [
      "[[100.  80.  90. 110.  95.]]\n"
     ]
    }
   ],
   "source": [
    "x= [10, 15, 12, 8, 14]\n",
    "y= [100, 80, 90, 110, 95]\n",
    "\n",
    "x1=[15,10,8,14,12]\n",
    "y1=[100,110,90,95,80]\n",
    "\n",
    "import pandas as pd\n",
    "from sklearn.linear_model import LinearRegression\n",
    "\n",
    "lr=LinearRegression()\n",
    "\n",
    "x=np.array(x)\n",
    "y=np.array(y)\n",
    "x1=np.array(x1)\n",
    "y1=np.array(y1)\n",
    "\n",
    "X=x.reshape(1,-1)\n",
    "y=y.reshape(1,-1)\n",
    "\n",
    "x_test=x1.reshape(1,-1)\n",
    "y_test=y1.reshape(1,-1)\n",
    "\n",
    "model=lr.fit(X,y)\n",
    "y_pred=model.predict(x_test)\n",
    "print(y_pred)\n",
    "\n"
   ]
  },
  {
   "cell_type": "markdown",
   "id": "cf6a9440",
   "metadata": {},
   "source": [
    "19. Scenario: A survey is conducted to measure the satisfaction levels of customers with a new product. The data collected is as follows:\n",
    "    [7, 8, 9, 6, 8, 7, 9, 7, 8, 7]\n",
    "    Calculate the standard error of the mean satisfaction score.\n"
   ]
  },
  {
   "cell_type": "code",
   "execution_count": 83,
   "id": "3a8c078c",
   "metadata": {},
   "outputs": [
    {
     "name": "stdout",
     "output_type": "stream",
     "text": [
      "Standard error: 0.917\n"
     ]
    }
   ],
   "source": [
    "x=[7, 8, 9, 6, 8, 7, 9, 7, 8, 7]\n",
    "import numpy as np\n",
    "std_dev=round(np.std(x),3)\n",
    "print(f\"Standard error: {std_dev}\")"
   ]
  },
  {
   "cell_type": "markdown",
   "id": "66af8c3e",
   "metadata": {},
   "source": [
    "20. Scenario: A company wants to analyze the relationship between advertising expenditure and sales. The data collected is as follows:\n",
    "        Advertising Expenditure (in thousands): [10, 15, 12, 8, 14]\n",
    "    Sales (in thousands): [25, 30, 28, 20, 26]\n",
    "    Perform a multiple regression analysis to predict sales based on advertising expenditure.\n"
   ]
  },
  {
   "cell_type": "code",
   "execution_count": 101,
   "id": "f744c161",
   "metadata": {},
   "outputs": [
    {
     "name": "stdout",
     "output_type": "stream",
     "text": [
      "Prediction from Linear Regression:[[25. 30. 28. 20. 26.]]\n",
      "Prediction from Dicision Tree Regressor:[[25. 30. 28. 20. 26.]]\n"
     ]
    },
    {
     "name": "stderr",
     "output_type": "stream",
     "text": [
      "C:\\Users\\Lenovo\\anaconda3\\lib\\site-packages\\seaborn\\distributions.py:2619: FutureWarning: `distplot` is a deprecated function and will be removed in a future version. Please adapt your code to use either `displot` (a figure-level function with similar flexibility) or `histplot` (an axes-level function for histograms).\n",
      "  warnings.warn(msg, FutureWarning)\n"
     ]
    },
    {
     "data": {
      "image/png": "[encoded data removed]",
      "text/plain": [
       "<Figure size 640x480 with 1 Axes>"
      ]
     },
     "metadata": {},
     "output_type": "display_data"
    },
    {
     "name": "stderr",
     "output_type": "stream",
     "text": [
      "C:\\Users\\Lenovo\\anaconda3\\lib\\site-packages\\seaborn\\_decorators.py:36: FutureWarning: Pass the following variables as keyword args: x, y. From version 0.12, the only valid positional argument will be `data`, and passing other arguments without an explicit keyword will result in an error or misinterpretation.\n",
      "  warnings.warn(\n"
     ]
    },
    {
     "data": {
      "image/png": "[encoded data removed]",
      "text/plain": [
       "<Figure size 640x480 with 1 Axes>"
      ]
     },
     "metadata": {},
     "output_type": "display_data"
    }
   ],
   "source": [
    "x= [10, 15, 12, 8, 14]\n",
    "y= [25, 30, 28, 20, 26]\n",
    "\n",
    "x1=[15,10,8,14,12]\n",
    "y1=[20,30,25,26,28]\n",
    "\n",
    "import pandas as pd\n",
    "from sklearn.linear_model import LinearRegression\n",
    "import seaborn as sns\n",
    "import matplotlib.pyplot as plt\n",
    "\n",
    "lr=LinearRegression()\n",
    "\n",
    "x=np.array(x)\n",
    "y=np.array(y)\n",
    "x1=np.array(x1)\n",
    "y1=np.array(y1)\n",
    "\n",
    "X=x.reshape(1,-1)\n",
    "y=y.reshape(1,-1)\n",
    "\n",
    "x_test=x1.reshape(1,-1)\n",
    "y_test=y1.reshape(1,-1)\n",
    "\n",
    "model=lr.fit(X,y)\n",
    "y_pred=model.predict(x_test)\n",
    "print(f'Prediction from Linear Regression:{y_pred}')\n",
    "\n",
    "from sklearn.tree import DecisionTreeRegressor\n",
    "dt=DecisionTreeRegressor()\n",
    "\n",
    "model1=dt.fit(X,y)\n",
    "y_pred1=model1.predict(x_test)\n",
    "print(f'Prediction from Dicision Tree Regressor:{y_pred1}')\n",
    "\n",
    "plt.title('density curve exp')\n",
    "sns.distplot(x)\n",
    "plt.show()\n",
    "plt.title('exp vs sales')\n",
    "plt.xlabel('exp')\n",
    "plt.ylabel('sales')\n",
    "sns.regplot(x, model.predict(x_test), ci=None)\n",
    "plt.show()"
   ]
  },
  {
   "cell_type": "code",
   "execution_count": null,
   "id": "aec79bec",
   "metadata": {},
   "outputs": [],
   "source": []
  }
 ],
 "metadata": {
  "kernelspec": {
   "display_name": "Python 3 (ipykernel)",
   "language": "python",
   "name": "python3"
  },
  "language_info": {
   "codemirror_mode": {
    "name": "ipython",
    "version": 3
   },
   "file_extension": ".py",
   "mimetype": "text/x-python",
   "name": "python",
   "nbconvert_exporter": "python",
   "pygments_lexer": "ipython3",
   "version": "3.9.13"
  }
 },
 "nbformat": 4,
 "nbformat_minor": 5
}
