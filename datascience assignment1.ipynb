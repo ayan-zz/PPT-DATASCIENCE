{
 "cells": [
  {
   "cell_type": "markdown",
   "id": "7a9cc498",
   "metadata": {},
   "source": [
    "### Assignment DataScience 01\n",
    "##### Ayan Chowdhury\n",
    "##### FSDS2.0"
   ]
  },
  {
   "cell_type": "code",
   "execution_count": 1,
   "id": "4b84efb0",
   "metadata": {},
   "outputs": [
    {
     "data": {
      "text/plain": [
       "'rebmun'"
      ]
     },
     "execution_count": 1,
     "metadata": {},
     "output_type": "execute_result"
    }
   ],
   "source": [
    "#1. Write a Python program to reverse a string without using any built-in string reversal functions.\n",
    "def enterstring(strings):\n",
    "    str1=strings[::-1]\n",
    "    return str1\n",
    "\n",
    "enterstring('number')\n"
   ]
  },
  {
   "cell_type": "code",
   "execution_count": 4,
   "id": "933194c8",
   "metadata": {},
   "outputs": [
    {
     "data": {
      "text/plain": [
       "True"
      ]
     },
     "execution_count": 4,
     "metadata": {},
     "output_type": "execute_result"
    }
   ],
   "source": [
    "#Implement a function to check if a given string is a palindrome.\n",
    "def enterstring(string):\n",
    "    s1=string[::-1]\n",
    "    if s1==string:\n",
    "        return True\n",
    "    else:\n",
    "        return False\n",
    "\n",
    "enterstring('nayan')"
   ]
  },
  {
   "cell_type": "code",
   "execution_count": 6,
   "id": "913edd9e",
   "metadata": {},
   "outputs": [
    {
     "data": {
      "text/plain": [
       "10"
      ]
     },
     "execution_count": 6,
     "metadata": {},
     "output_type": "execute_result"
    }
   ],
   "source": [
    "#Write a program to find the largest element in a given list.\n",
    "def enterlist(lst):\n",
    "    n=len(lst)\n",
    "    mx=lst[0]\n",
    "\n",
    "    for i in range(1,n):\n",
    "        if lst[i]>mx:\n",
    "            mx=lst[i]\n",
    "            \n",
    "    return mx\n",
    "\n",
    "enterlist([2,5,10,6])\n",
    "        "
   ]
  },
  {
   "cell_type": "code",
   "execution_count": 11,
   "id": "d1b4836e",
   "metadata": {},
   "outputs": [
    {
     "name": "stdout",
     "output_type": "stream",
     "text": [
      "{2: 1, 5: 2, 4: 1, 8: 1}\n"
     ]
    }
   ],
   "source": [
    "#Implement a function to count the occurrence of each element in a list.\n",
    "lst=[2,5,4,8,5]\n",
    "dict={}\n",
    "for i in range(len(lst)):\n",
    "    dict[lst[i]]=lst.count(lst[i])\n",
    "    \n",
    "print(dict)"
   ]
  },
  {
   "cell_type": "code",
   "execution_count": 14,
   "id": "d79b3335",
   "metadata": {},
   "outputs": [
    {
     "data": {
      "text/plain": [
       "9"
      ]
     },
     "execution_count": 14,
     "metadata": {},
     "output_type": "execute_result"
    }
   ],
   "source": [
    "#Write a Python program to find the second largest number in a list.\n",
    "def enterlist(lst):\n",
    "    n=len(lst)\n",
    "    mx=lst[0]\n",
    "\n",
    "    for i in range(1,n):\n",
    "        if lst[i]>mx:\n",
    "            mx=lst[i]\n",
    "    for j in lst:\n",
    "        if j<=(mx-1):\n",
    "            smx=j\n",
    "            \n",
    "            \n",
    "    return smx\n",
    "\n",
    "enterlist([2,5,10,6,9])"
   ]
  },
  {
   "cell_type": "code",
   "execution_count": 16,
   "id": "1d2b39ed",
   "metadata": {},
   "outputs": [
    {
     "data": {
      "text/plain": [
       "{1, 2, 4, 6, 8, 9}"
      ]
     },
     "execution_count": 16,
     "metadata": {},
     "output_type": "execute_result"
    }
   ],
   "source": [
    "#6. Implement a function to remove duplicate elements from a list.\n",
    "def removeduplicates(lst):\n",
    "    rmx=set(lst)\n",
    "    return rmx\n",
    "\n",
    "\n",
    "removeduplicates([1,2,2,4,8,9,8,6,4])"
   ]
  },
  {
   "cell_type": "code",
   "execution_count": 23,
   "id": "e4d51fe6",
   "metadata": {},
   "outputs": [
    {
     "data": {
      "text/plain": [
       "5040"
      ]
     },
     "execution_count": 23,
     "metadata": {},
     "output_type": "execute_result"
    }
   ],
   "source": [
    "#7. Write a program to calculate the factorial of a given number.\n",
    "def factorial(nums):\n",
    "    n=nums+1\n",
    "    m=1\n",
    "    for i in range(1,n):\n",
    "        m=m*i\n",
    "    return m\n",
    "factorial(7)"
   ]
  },
  {
   "cell_type": "code",
   "execution_count": 27,
   "id": "37fae1cc",
   "metadata": {},
   "outputs": [
    {
     "name": "stdout",
     "output_type": "stream",
     "text": [
      "False\n",
      "True\n"
     ]
    },
    {
     "data": {
      "text/plain": [
       "True"
      ]
     },
     "execution_count": 27,
     "metadata": {},
     "output_type": "execute_result"
    }
   ],
   "source": [
    "#8. Implement a function to check if a given number is prime.\n",
    "\n",
    "import sympy.ntheory as nt\n",
    "\n",
    "num1 = nt.isprime(30)\n",
    "num2 = nt.isprime(13)\n",
    "\n",
    " \n",
    "print(num1) \n",
    "print(num2) \n",
    "\n",
    "\n",
    "#approach2\n",
    "\n",
    "import math\n",
    "def findprime(n):\n",
    "    if n<=2:\n",
    "        return False\n",
    "    for i in range(2, int(math.sqrt(n)) + 1):\n",
    "        if n%i==0:\n",
    "            return False\n",
    "    return True\n",
    "\n",
    "findprime(11)"
   ]
  },
  {
   "cell_type": "code",
   "execution_count": 48,
   "id": "43a84507",
   "metadata": {},
   "outputs": [
    {
     "name": "stdout",
     "output_type": "stream",
     "text": [
      "[1, 2, 4, 5, 8, 10]\n"
     ]
    },
    {
     "data": {
      "text/plain": [
       "[1, 2, 4, 5, 8, 10]"
      ]
     },
     "execution_count": 48,
     "metadata": {},
     "output_type": "execute_result"
    }
   ],
   "source": [
    "#9. Write a Python program to sort a list of integers in ascending order.\n",
    "def srting(nums):\n",
    "    a=sorted(nums)\n",
    "    print(a)\n",
    "\n",
    "srting([1,5,2,8,10,4])\n",
    "\n",
    "\n",
    "#approach 2\n",
    "def sorting(nums1):\n",
    "    for i in range(len(nums1)):\n",
    "        for j in range(i + 1, len(nums1)):\n",
    "\n",
    "            if nums1[i] > nums1[j]:\n",
    "                temp=nums1[i]\n",
    "                nums1[i]=nums1[j]\n",
    "                nums1[j]=temp\n",
    "\n",
    "    return nums1\n",
    "\n",
    "sorting([1,5,2,8,10,4])"
   ]
  },
  {
   "cell_type": "code",
   "execution_count": 56,
   "id": "1710bf08",
   "metadata": {},
   "outputs": [
    {
     "name": "stdout",
     "output_type": "stream",
     "text": [
      "7\n",
      "7\n"
     ]
    }
   ],
   "source": [
    "#10. Implement a function to find the sum of all numbers in a list.\n",
    "def summation(lst):\n",
    "    sm=0\n",
    "    for i in lst:\n",
    "        sm=sm+i\n",
    "    print(sm)\n",
    "     \n",
    "summation([1,2,4])\n",
    "\n",
    "\n",
    "#approach 2\n",
    "sm=sum([1,2,4])\n",
    "print(sm)\n"
   ]
  },
  {
   "cell_type": "code",
   "execution_count": 58,
   "id": "aa96f33f",
   "metadata": {},
   "outputs": [
    {
     "data": {
      "text/plain": [
       "[2, 3]"
      ]
     },
     "execution_count": 58,
     "metadata": {},
     "output_type": "execute_result"
    }
   ],
   "source": [
    "#11. Write a program to find the common elements between two lists.\n",
    "def commonnos(nums1,nums2):\n",
    "    a=[]\n",
    "    for i in range(len(nums1)):\n",
    "        if nums1[i] in nums2:\n",
    "            a.append(nums1[i])\n",
    "        else:\n",
    "            i=i+1\n",
    "    return a\n",
    "\n",
    "commonnos([1,2,3,4],[2,3,5,8])\n",
    "    "
   ]
  },
  {
   "cell_type": "code",
   "execution_count": 101,
   "id": "9319f02f",
   "metadata": {},
   "outputs": [
    {
     "name": "stdout",
     "output_type": "stream",
     "text": [
      "True\n"
     ]
    }
   ],
   "source": [
    "#12. Implement a function to check if a given string is an anagram of another string\n",
    "def anagram(str1,str2):\n",
    "    nums1=list(str1)\n",
    "    nums2=list(str2)\n",
    "    a=[]\n",
    "    l1=len(nums1)\n",
    "    l2=len(nums2)\n",
    "    #if l1==l2:\n",
    "    for i in range(0,l1):\n",
    "        if nums1[i] not in nums2:\n",
    "            return False\n",
    "            break\n",
    "        elif nums1[i] in nums2:\n",
    "            i=i+1\n",
    "        \n",
    "    print(True)\n",
    "    \n",
    "       \n",
    "\n",
    "anagram('silent','lnetsi')\n",
    "\n",
    "\n"
   ]
  },
  {
   "cell_type": "code",
   "execution_count": 161,
   "id": "21754e4f",
   "metadata": {},
   "outputs": [
    {
     "name": "stdout",
     "output_type": "stream",
     "text": [
      "['abc', 'acb', 'bac', 'bca', 'cab', 'cba']\n"
     ]
    }
   ],
   "source": [
    "#13. Write a Python program to generate all permutations of a given string.\n",
    "def permutations(str1):\n",
    "  \n",
    "    if len(str1)==1:\n",
    "        return str1\n",
    "    a=[]\n",
    "    for i in range(len(str1)):\n",
    "        char=str1[i]\n",
    "        remaining=str1[:i]+str1[i+1:]\n",
    "        substring=permutations(remaining)\n",
    "        for k in substring:\n",
    "            a.append(char+k)\n",
    "    \n",
    "    return a\n",
    "\n",
    "\n",
    "ss=permutations('abc')\n",
    "print(ss)"
   ]
  },
  {
   "cell_type": "code",
   "execution_count": 171,
   "id": "6ca5e229",
   "metadata": {},
   "outputs": [
    {
     "name": "stdout",
     "output_type": "stream",
     "text": [
      "0 1 1 2 3 "
     ]
    }
   ],
   "source": [
    "#14. Implement a function to calculate the Fibonacci sequence up to a given number of terms.\n",
    "\n",
    "def fibonacci(n):\n",
    "    nums1=0\n",
    "    nums2=1\n",
    "    nextno=0\n",
    "    for i in range(0,n):\n",
    "        print(nextno, end=\" \")\n",
    "        nums1=nums2\n",
    "        nums2=nextno\n",
    "        nextno=nums1+nums2\n",
    "    \n",
    "    return \n",
    "\n",
    "fibonacci(5)\n"
   ]
  },
  {
   "cell_type": "code",
   "execution_count": 174,
   "id": "45ba0820",
   "metadata": {},
   "outputs": [
    {
     "name": "stdout",
     "output_type": "stream",
     "text": [
      "5\n"
     ]
    }
   ],
   "source": [
    "#15. Write a program to find the median of a list of numbers.\n",
    "def median(nums):\n",
    "    n=len(nums)\n",
    "    mid=n//2\n",
    "    print(nums[mid])\n",
    "    \n",
    "median([1,2,5,4,8])"
   ]
  },
  {
   "cell_type": "code",
   "execution_count": 177,
   "id": "7ef3c8ec",
   "metadata": {},
   "outputs": [
    {
     "data": {
      "text/plain": [
       "False"
      ]
     },
     "execution_count": 177,
     "metadata": {},
     "output_type": "execute_result"
    }
   ],
   "source": [
    "#16. Implement a function to check if a given list is sorted in non-decreasing order.\n",
    "def sorting(nums):\n",
    "    nums2=sorted(nums)\n",
    "    if nums2==nums:\n",
    "        return True\n",
    "    else:\n",
    "        return False\n",
    "sorting([1,7,3,5])"
   ]
  },
  {
   "cell_type": "code",
   "execution_count": 178,
   "id": "34796aa6",
   "metadata": {},
   "outputs": [
    {
     "data": {
      "text/plain": [
       "[2, 3]"
      ]
     },
     "execution_count": 178,
     "metadata": {},
     "output_type": "execute_result"
    }
   ],
   "source": [
    "#17. Write a Python program to find the intersection of two lists.\n",
    "def intersection(nums1,nums2):\n",
    "    a=[]\n",
    "    for i in range(len(nums1)):\n",
    "        if nums1[i] in nums2:\n",
    "            a.append(nums1[i])\n",
    "        else:\n",
    "            i=i+1\n",
    "    return a\n",
    "\n",
    "intersection([1,2,3,4],[2,3,5,8])\n",
    "    "
   ]
  },
  {
   "cell_type": "code",
   "execution_count": 180,
   "id": "759e7f20",
   "metadata": {},
   "outputs": [
    {
     "data": {
      "text/plain": [
       "50"
      ]
     },
     "execution_count": 180,
     "metadata": {},
     "output_type": "execute_result"
    }
   ],
   "source": [
    "#18. Implement a function to find the maximum subarray sum in a given list.\n",
    "def subarray(nums):\n",
    "    result=0\n",
    "    for i in range(len(nums)):\n",
    "        temp=0\n",
    "        for j in range(i,len(nums)):\n",
    "            temp=temp+nums[j]\n",
    "            result=result+temp\n",
    "    return result\n",
    "\n",
    "subarray([1,2,3,4])"
   ]
  },
  {
   "cell_type": "code",
   "execution_count": 183,
   "id": "d229bb8c",
   "metadata": {},
   "outputs": [
    {
     "data": {
      "text/plain": [
       "'dcf'"
      ]
     },
     "execution_count": 183,
     "metadata": {},
     "output_type": "execute_result"
    }
   ],
   "source": [
    "#19. Write a program to remove all vowels from a given string.\n",
    "def vowels(str1):\n",
    "    b=[]\n",
    "    a=['a','e','i','o','u']\n",
    "    st=list(str1)\n",
    "    for i in range(len(st)):\n",
    "        if st[i] not in a:\n",
    "            b.append(st[i])\n",
    "            cc=''.join(b)\n",
    "        else:\n",
    "            i=i+1\n",
    "    return cc\n",
    "\n",
    "vowels('adcef')"
   ]
  },
  {
   "cell_type": "code",
   "execution_count": 193,
   "id": "e923ccd0",
   "metadata": {},
   "outputs": [
    {
     "data": {
      "text/plain": [
       "'bus the catch to running was I'"
      ]
     },
     "execution_count": 193,
     "metadata": {},
     "output_type": "execute_result"
    }
   ],
   "source": [
    "#20. Implement a function to reverse the order of words in a given sentence.\n",
    "def reversewords(sentence):\n",
    "    ss=sentence.split(' ')\n",
    "    reverse=ss[::-1]\n",
    "    rr=' '.join(reverse)\n",
    "    return rr\n",
    "\n",
    "reversewords('I was running to catch the bus')"
   ]
  },
  {
   "cell_type": "code",
   "execution_count": 194,
   "id": "1655fa07",
   "metadata": {},
   "outputs": [
    {
     "name": "stdout",
     "output_type": "stream",
     "text": [
      "True\n"
     ]
    }
   ],
   "source": [
    "#21. Write a Python program to check if two strings are anagrams of each other.\n",
    "def anagram(str1,str2):\n",
    "    nums1=list(str1)\n",
    "    nums2=list(str2)\n",
    "    a=[]\n",
    "    l1=len(nums1)\n",
    "    l2=len(nums2)\n",
    "    #if l1==l2:\n",
    "    for i in range(0,l1):\n",
    "        if nums1[i] not in nums2:\n",
    "            return False\n",
    "            break\n",
    "        elif nums1[i] in nums2:\n",
    "            i=i+1\n",
    "        \n",
    "    print(True)\n",
    "    \n",
    "       \n",
    "\n",
    "anagram('silent','lnetsi')\n"
   ]
  },
  {
   "cell_type": "code",
   "execution_count": 208,
   "id": "39bbf51c",
   "metadata": {},
   "outputs": [
    {
     "name": "stdout",
     "output_type": "stream",
     "text": [
      "r\n"
     ]
    }
   ],
   "source": [
    "#22. Implement a function to find the first non-repeating character in a string.\n",
    "def nonrepeating(string):\n",
    "    str1=list(string)\n",
    "    n=len(str1)\n",
    "    \n",
    "    for i in range(1,len(str1)):\n",
    "        j=i-1\n",
    "        if str1[j] not in str1[i:n]:\n",
    "            print(str1[j])\n",
    "            break\n",
    "        else:\n",
    "            i=i+1\n",
    "            \n",
    "    return \n",
    "\n",
    "nonrepeating('srins')"
   ]
  },
  {
   "cell_type": "code",
   "execution_count": 210,
   "id": "8ef5b114",
   "metadata": {},
   "outputs": [
    {
     "data": {
      "text/plain": [
       "[2, 2, 3, 3]"
      ]
     },
     "execution_count": 210,
     "metadata": {},
     "output_type": "execute_result"
    }
   ],
   "source": [
    "#23. Write a program to find the prime factors of a given number.\n",
    "def primefactors(number):\n",
    "    factors = []  \n",
    "   \n",
    "    while number % 2 == 0:\n",
    "        factors.append(2)\n",
    "        number //= 2\n",
    "\n",
    "    \n",
    "    i = 3\n",
    "    while i * i <= number:\n",
    "        while number % i == 0:\n",
    "            factors.append(i)\n",
    "            number //= i\n",
    "        i += 2  \n",
    "\n",
    "  \n",
    "    if number > 1:\n",
    "        factors.append(number)\n",
    "\n",
    "    return factors\n",
    "\n",
    "\n",
    "\n",
    "primefactors(36)"
   ]
  },
  {
   "cell_type": "code",
   "execution_count": 28,
   "id": "ca751017",
   "metadata": {},
   "outputs": [
    {
     "name": "stdout",
     "output_type": "stream",
     "text": [
      "False\n",
      "True\n"
     ]
    }
   ],
   "source": [
    "#24. Implement a function to check if a given number is a power of two.\n",
    "import math\n",
    "  \n",
    "def Log2(x):\n",
    "    if x == 0:\n",
    "        return False\n",
    " \n",
    "    return (math.log10(x) /\n",
    "            math.log10(2))\n",
    "\n",
    " \n",
    "def isPowerOfTwo(n):\n",
    "    if (math.ceil(Log2(n)) == math.floor(Log2(n))):\n",
    "        return True\n",
    "    else:\n",
    "        return False\n",
    "\n",
    "\n",
    "ss=isPowerOfTwo(36)\n",
    "print(ss)\n",
    "\n",
    "\n",
    "#approach2\n",
    "\n",
    "def power(n):\n",
    "    if n%2==0:\n",
    "        s=n//2\n",
    "        while n>=2:\n",
    "            if s>1:\n",
    "                num=float(s/2)\n",
    "                s=num\n",
    "            elif s==1:\n",
    "                return True\n",
    "            else:\n",
    "                return False\n",
    "    else:\n",
    "        return ('number is odd')\n",
    "\n",
    "ss=power(8)\n",
    "print(ss)"
   ]
  },
  {
   "cell_type": "code",
   "execution_count": 34,
   "id": "202c09c2",
   "metadata": {},
   "outputs": [
    {
     "name": "stdout",
     "output_type": "stream",
     "text": [
      "[1, 5, 6, 8, 9, 10]\n"
     ]
    }
   ],
   "source": [
    "#25. Write a Python program to merge two sorted lists into a single sorted list.\n",
    "def mergesort(lst1,lst2):\n",
    "    lst3=lst1+lst2\n",
    "    print(sorted(lst3))\n",
    "    return\n",
    "\n",
    "mergesort([1,5,8],[6,9,10])"
   ]
  },
  {
   "cell_type": "code",
   "execution_count": 47,
   "id": "2dffa32a",
   "metadata": {},
   "outputs": [
    {
     "data": {
      "text/plain": [
       "2"
      ]
     },
     "execution_count": 47,
     "metadata": {},
     "output_type": "execute_result"
    }
   ],
   "source": [
    "#26. Implement a function to find the mode of a list of numbers.\n",
    "def mode(lst):\n",
    "    dict={}\n",
    "    for i in range(len(lst)):\n",
    "        dict[lst[i]]=lst.count(lst[i])\n",
    "        key=list(filter(lambda x:dict[x]==max(dict.values()),dict))[0]\n",
    "    return key\n",
    "\n",
    "mode([1,2,5,8,2,6])"
   ]
  },
  {
   "cell_type": "code",
   "execution_count": 65,
   "id": "a1d9e320",
   "metadata": {},
   "outputs": [
    {
     "data": {
      "text/plain": [
       "2"
      ]
     },
     "execution_count": 65,
     "metadata": {},
     "output_type": "execute_result"
    }
   ],
   "source": [
    "#27. Write a program to find the greatest common divisor (GCD) of two numbers.\n",
    "def gcd(num1,num2):\n",
    "    while num2!=0:\n",
    "        num1,num2=num2,num1%num2\n",
    "    return num1\n",
    "\n",
    "gcd(200,18)\n"
   ]
  },
  {
   "cell_type": "code",
   "execution_count": 70,
   "id": "bf695ed1",
   "metadata": {},
   "outputs": [
    {
     "name": "stdout",
     "output_type": "stream",
     "text": [
      "2.2360679779158037\n",
      "2.23606797749979\n"
     ]
    }
   ],
   "source": [
    "#28. Implement a function to calculate the square root of a given number.\n",
    "def squareroot(number):\n",
    "    if number == 0 or number == 1:\n",
    "        return number\n",
    "    \n",
    "    guess = number / 2\n",
    "    threshold = 0.0001  \n",
    "\n",
    "    while abs(guess * guess - number) > threshold:\n",
    "        guess = (guess + number / guess) / 2\n",
    "\n",
    "    return guess\n",
    "\n",
    "ss=squareroot(5)\n",
    "print(ss)\n",
    "\n",
    "\n",
    "#approach2 \n",
    "import math\n",
    "def squareroot(n):\n",
    "    if n == 0 or n == 1:\n",
    "        print(n)\n",
    "    else:\n",
    "        \n",
    "        sq=math.sqrt(n)\n",
    "        print(sq)\n",
    "    \n",
    "squareroot(5)"
   ]
  },
  {
   "cell_type": "code",
   "execution_count": 83,
   "id": "16cc5d6d",
   "metadata": {},
   "outputs": [
    {
     "data": {
      "text/plain": [
       "True"
      ]
     },
     "execution_count": 83,
     "metadata": {},
     "output_type": "execute_result"
    }
   ],
   "source": [
    "#29. Write a Python program to check if a given string is a valid palindrome ignoring non-alphanumeric characters.\n",
    "import re\n",
    "def enterstring(string):\n",
    "    str1 = re.sub('[^a-zA-Z0-9]', '', string.lower())\n",
    "    \n",
    "    s1=str1[::-1]\n",
    "    if s1==str1:\n",
    "        return True\n",
    "    else:\n",
    "        return False\n",
    "enterstring(\"na**yan\")"
   ]
  },
  {
   "cell_type": "code",
   "execution_count": 108,
   "id": "853cbf0c",
   "metadata": {},
   "outputs": [
    {
     "name": "stdout",
     "output_type": "stream",
     "text": [
      "1\n"
     ]
    }
   ],
   "source": [
    "#30. Implement a function to find the minimum element in a rotated sorted list.\n",
    "def rotatedsort(num):\n",
    "    n=len(num)-1\n",
    "    k=len(num)\n",
    "    for i in range(1,k):\n",
    "        m=n-i\n",
    "        if num[k-i]<num[0]:\n",
    "            i=i+1\n",
    "        else:\n",
    "            print(num[k-i+1])\n",
    "            break\n",
    "    return \n",
    "\n",
    "rotatedsort([5,6,8,1,2,3])\n",
    "            "
   ]
  },
  {
   "cell_type": "code",
   "execution_count": 109,
   "id": "45d40033",
   "metadata": {},
   "outputs": [
    {
     "data": {
      "text/plain": [
       "6"
      ]
     },
     "execution_count": 109,
     "metadata": {},
     "output_type": "execute_result"
    }
   ],
   "source": [
    "#31. Write a program to find the sum of all even numbers in a list.\n",
    "def sumeven(num):\n",
    "    s=0\n",
    "    for i in range(len(num)):\n",
    "        if num[i]%2==0:\n",
    "            s=s+num[i]\n",
    "        else:\n",
    "            i=i+1\n",
    "    return s\n",
    "\n",
    "sumeven([1,2,4])"
   ]
  },
  {
   "cell_type": "code",
   "execution_count": 110,
   "id": "06304221",
   "metadata": {},
   "outputs": [
    {
     "data": {
      "text/plain": [
       "8"
      ]
     },
     "execution_count": 110,
     "metadata": {},
     "output_type": "execute_result"
    }
   ],
   "source": [
    "#32. Implement a function to calculate the power of a number using recursion.\n",
    "def power(base, exponent):\n",
    "    if exponent == 0:\n",
    "        return 1\n",
    "    else:\n",
    "        return base * power(base, exponent - 1)\n",
    "    \n",
    "power(2,3)"
   ]
  },
  {
   "cell_type": "code",
   "execution_count": 134,
   "id": "ea64ec1c",
   "metadata": {},
   "outputs": [
    {
     "name": "stdout",
     "output_type": "stream",
     "text": [
      "[1, 2, 4, 8, 5]\n"
     ]
    }
   ],
   "source": [
    "#33. Write a Python program to remove duplicates from a list while preserving the order.\n",
    "lst=[1,2,4,2,8,5,5,8]\n",
    "i=0\n",
    "n=len(lst)\n",
    "while i< n:\n",
    "    j=i+1\n",
    "    while j<n:\n",
    "        if lst[i]==lst[j]:\n",
    "            lst.pop(j)\n",
    "            n-=1\n",
    "        else:\n",
    "            j=j+1\n",
    "    i=i+1\n",
    "        \n",
    "    \n",
    "print(lst)"
   ]
  },
  {
   "cell_type": "code",
   "execution_count": 202,
   "id": "70fc25d5",
   "metadata": {},
   "outputs": [
    {
     "data": {
      "text/plain": [
       "'fl'"
      ]
     },
     "execution_count": 202,
     "metadata": {},
     "output_type": "execute_result"
    }
   ],
   "source": [
    "#34. Implement a function to find the longest common prefix among a list of strings.\n",
    "def longest_common_prefix(strs):\n",
    "    if not strs:\n",
    "        return \"\"\n",
    "\n",
    "    min_length = min(len(s) for s in strs)\n",
    "    common_prefix = \"\"\n",
    "    for i in range(min_length):\n",
    "        char = strs[0][i]\n",
    "        for s in strs:\n",
    "            if s[i] != char:\n",
    "                return common_prefix\n",
    "        common_prefix += char\n",
    "\n",
    "    return common_prefix\n",
    "\n",
    "# Example usage:\n",
    "words = [\"flower\", \"flow\", \"flight\"]\n",
    "longest_common_prefix(words)\n"
   ]
  },
  {
   "cell_type": "code",
   "execution_count": 154,
   "id": "0803007b",
   "metadata": {},
   "outputs": [
    {
     "name": "stdout",
     "output_type": "stream",
     "text": [
      "True\n"
     ]
    }
   ],
   "source": [
    "#35. Write a program to check if a given number is a perfect square.\n",
    "def squareroot(number):\n",
    "    if number == 0 or number == 1:\n",
    "        return number\n",
    "    \n",
    "    guess = number / 2\n",
    "    threshold = 0.0001  \n",
    "\n",
    "    while abs(guess * guess - number) > 0.0001:\n",
    "        guess = (guess + number / guess) / 2\n",
    "        \n",
    "    pp=round(guess,3)\n",
    "        \n",
    "    if pp*pp==number:\n",
    "        return True\n",
    "    else: \n",
    "        return False\n",
    "\n",
    "    \n",
    "\n",
    "ss=squareroot(25)\n",
    "print(ss)\n"
   ]
  },
  {
   "cell_type": "code",
   "execution_count": 156,
   "id": "2533e3d3",
   "metadata": {},
   "outputs": [
    {
     "data": {
      "text/plain": [
       "6"
      ]
     },
     "execution_count": 156,
     "metadata": {},
     "output_type": "execute_result"
    }
   ],
   "source": [
    "#36. Implement a function to calculate the product of all elements in a list.\n",
    "def product(lst):\n",
    "    s=1\n",
    "    for i in range(len(lst)):\n",
    "        s=s*lst[i]\n",
    "        i=i+1\n",
    "        \n",
    "    return s\n",
    "\n",
    "product([1,2,3])"
   ]
  },
  {
   "cell_type": "code",
   "execution_count": 161,
   "id": "cea1296f",
   "metadata": {},
   "outputs": [
    {
     "data": {
      "text/plain": [
       "'Delhi to travelling was I'"
      ]
     },
     "execution_count": 161,
     "metadata": {},
     "output_type": "execute_result"
    }
   ],
   "source": [
    "#37. Write a Python program to reverse the order of words in a sentence while preserving the word order.\n",
    "sentence='I was travelling to Delhi'\n",
    "ss=sentence.split(' ')\n",
    "' '.join(ss[::-1])"
   ]
  },
  {
   "cell_type": "code",
   "execution_count": 165,
   "id": "c36050ab",
   "metadata": {},
   "outputs": [
    {
     "data": {
      "text/plain": [
       "10"
      ]
     },
     "execution_count": 165,
     "metadata": {},
     "output_type": "execute_result"
    }
   ],
   "source": [
    "#38. Implement a function to find the missing number in a given list of consecutive numbers.\n",
    "def missingnumber(num):\n",
    "    n=len(num)\n",
    "    start=num[0]\n",
    "    end=num[n-1]+1\n",
    "    for i in range(start,end):\n",
    "        if i not in num:\n",
    "            missing=i\n",
    "        else:\n",
    "            i=i+1\n",
    "            \n",
    "    return missing\n",
    "\n",
    "missingnumber([4,5,6,7,8,9,11])\n"
   ]
  },
  {
   "cell_type": "code",
   "execution_count": 180,
   "id": "34956d63",
   "metadata": {},
   "outputs": [
    {
     "data": {
      "text/plain": [
       "6"
      ]
     },
     "execution_count": 180,
     "metadata": {},
     "output_type": "execute_result"
    }
   ],
   "source": [
    "#39. Write a program to find the sum of digits of a given number.\n",
    "def sumofdigits(num):\n",
    "    digit_sum = 0\n",
    "    while num > 0:\n",
    "        digit = num % 10\n",
    "        digit_sum += digit\n",
    "        num //= 10\n",
    "    return digit_sum\n",
    "\n",
    "sumofdigits(123)"
   ]
  },
  {
   "cell_type": "code",
   "execution_count": 181,
   "id": "7261e604",
   "metadata": {},
   "outputs": [
    {
     "data": {
      "text/plain": [
       "True"
      ]
     },
     "execution_count": 181,
     "metadata": {},
     "output_type": "execute_result"
    }
   ],
   "source": [
    "#40. Implement a function to check if a given string is a valid palindrome considering case sensitivity.\n",
    "\n",
    "def palindrome(string):\n",
    "    string = string.replace(\" \", \"\").lower()\n",
    "    st=string[::-1]\n",
    "    if st==string:\n",
    "        return True\n",
    "    else:\n",
    "        return False\n",
    "    \n",
    "palindrome('Nayan')\n"
   ]
  },
  {
   "cell_type": "code",
   "execution_count": 192,
   "id": "3bc9d2d3",
   "metadata": {},
   "outputs": [
    {
     "data": {
      "text/plain": [
       "3"
      ]
     },
     "execution_count": 192,
     "metadata": {},
     "output_type": "execute_result"
    }
   ],
   "source": [
    "#41. Write a Python program to find the smallest missing positive integer in a list.\n",
    "def missing(nums):\n",
    "    num=set(nums)\n",
    "    ps=1\n",
    "    while ps in num:\n",
    "        ps+=1\n",
    "        \n",
    "    return ps\n",
    "\n",
    "missing([1,2,4,5,7,8])"
   ]
  },
  {
   "cell_type": "code",
   "execution_count": null,
   "id": "9a83e4e0",
   "metadata": {},
   "outputs": [],
   "source": [
    "#42. Implement a function to find the longest palindrome substring in a given string.\n"
   ]
  },
  {
   "cell_type": "code",
   "execution_count": 193,
   "id": "68cae483",
   "metadata": {},
   "outputs": [
    {
     "name": "stdout",
     "output_type": "stream",
     "text": [
      "{2: 1, 5: 2, 4: 1, 8: 1}\n"
     ]
    }
   ],
   "source": [
    "#43. Write a program to find the number of occurrences of a given element in a list.\n",
    "lst=[2,5,4,8,5]\n",
    "dict={}\n",
    "for i in range(len(lst)):\n",
    "    dict[lst[i]]=lst.count(lst[i])\n",
    "    \n",
    "print(dict)"
   ]
  },
  {
   "cell_type": "code",
   "execution_count": 196,
   "id": "d38ce5b0",
   "metadata": {},
   "outputs": [
    {
     "data": {
      "text/plain": [
       "True"
      ]
     },
     "execution_count": 196,
     "metadata": {},
     "output_type": "execute_result"
    }
   ],
   "source": [
    "#44. Implement a function to check if a given number is a perfect number.\n",
    "def is_perfect_number(number):\n",
    "    if number <= 0:\n",
    "        return False\n",
    "\n",
    "    divisor_sum = 0\n",
    "    for i in range(1, number):\n",
    "        if number % i == 0:\n",
    "            divisor_sum += i\n",
    "            \n",
    "    if divisor_sum == number:\n",
    "        return True\n",
    "    else:\n",
    "        return False\n",
    "\n",
    "\n",
    "is_perfect_number(28)"
   ]
  },
  {
   "cell_type": "code",
   "execution_count": 200,
   "id": "02880d57",
   "metadata": {},
   "outputs": [
    {
     "data": {
      "text/plain": [
       "'stahg'"
      ]
     },
     "execution_count": 200,
     "metadata": {},
     "output_type": "execute_result"
    }
   ],
   "source": [
    "#45. Write a Python program to remove all duplicates from a string.\n",
    "string='sghtas'\n",
    "ss=list(string)\n",
    "''.join(set(ss))"
   ]
  },
  {
   "cell_type": "code",
   "execution_count": 201,
   "id": "31fb6d8f",
   "metadata": {},
   "outputs": [
    {
     "data": {
      "text/plain": [
       "3"
      ]
     },
     "execution_count": 201,
     "metadata": {},
     "output_type": "execute_result"
    }
   ],
   "source": [
    "#46. Implement a function to find the first missing positive\n",
    "def missing(nums):\n",
    "    num=set(nums)\n",
    "    ps=1\n",
    "    while ps in num:\n",
    "        ps+=1\n",
    "        \n",
    "    return ps\n",
    "\n",
    "missing([1,2,4,5,7,8])"
   ]
  },
  {
   "cell_type": "code",
   "execution_count": null,
   "id": "c94e5da6",
   "metadata": {},
   "outputs": [],
   "source": []
  }
 ],
 "metadata": {
  "kernelspec": {
   "display_name": "Python 3 (ipykernel)",
   "language": "python",
   "name": "python3"
  },
  "language_info": {
   "codemirror_mode": {
    "name": "ipython",
    "version": 3
   },
   "file_extension": ".py",
   "mimetype": "text/x-python",
   "name": "python",
   "nbconvert_exporter": "python",
   "pygments_lexer": "ipython3",
   "version": "3.9.13"
  }
 },
 "nbformat": 4,
 "nbformat_minor": 5
}
